{
 "cells": [
  {
   "cell_type": "code",
   "execution_count": 1,
   "metadata": {},
   "outputs": [
    {
     "data": {
      "application/vnd.jupyter.widget-view+json": {
       "model_id": "b17a283822874fa9b35eec3033287756",
       "version_major": 2,
       "version_minor": 0
      },
      "text/plain": [
       "Downloading https://raw.githubusercontent.com/stanfordnlp/stanza-resources/main/resources_1.3.0.json:   0%|   …"
      ]
     },
     "metadata": {},
     "output_type": "display_data"
    },
    {
     "name": "stderr",
     "output_type": "stream",
     "text": [
      "2022-03-23 08:50:05 INFO: Downloading default packages for language: id (Indonesian)...\n",
      "2022-03-23 08:50:05 INFO: File exists: /home/lan666as/stanza_resources/id/default.zip.\n",
      "2022-03-23 08:50:07 INFO: Finished downloading models and saved to /home/lan666as/stanza_resources.\n",
      "2022-03-23 08:50:07 INFO: Loading these models for language: id (Indonesian):\n",
      "=======================\n",
      "| Processor | Package |\n",
      "-----------------------\n",
      "| tokenize  | gsd     |\n",
      "| pos       | gsd     |\n",
      "| lemma     | gsd     |\n",
      "| depparse  | gsd     |\n",
      "=======================\n",
      "\n",
      "2022-03-23 08:50:07 INFO: Use device: gpu\n",
      "2022-03-23 08:50:07 INFO: Loading: tokenize\n",
      "2022-03-23 08:50:11 INFO: Loading: pos\n",
      "2022-03-23 08:50:11 INFO: Loading: lemma\n",
      "2022-03-23 08:50:11 INFO: Loading: depparse\n",
      "2022-03-23 08:50:11 INFO: Done loading processors!\n"
     ]
    }
   ],
   "source": [
    "import stanza\n",
    "import spacy_stanza\n",
    "\n",
    "stanza.download(\"id\")\n",
    "nlp = spacy_stanza.load_pipeline(\"id\")"
   ]
  },
  {
   "cell_type": "code",
   "execution_count": 2,
   "metadata": {},
   "outputs": [
    {
     "name": "stdout",
     "output_type": "stream",
     "text": [
      "Joko Widodo lahir dari pasangan Widjiatno Notomihardjo dan Sudjiatmi. Ia merupakan anak sulung dan putra satu-satunya dari empat bersaudara. Ia memiliki tiga orang adik perempuan bernama Iit Sriyantini, Ida Yati, dan Titik Relawati\n"
     ]
    }
   ],
   "source": [
    "text = \"Joko Widodo lahir dari pasangan Widjiatno Notomihardjo dan Sudjiatmi. Ia merupakan anak sulung dan putra satu-satunya dari empat bersaudara. Ia memiliki tiga orang adik perempuan bernama Iit Sriyantini, Ida Yati, dan Titik Relawati.\"\n",
    "print(text)"
   ]
  },
  {
   "cell_type": "code",
   "execution_count": 3,
   "metadata": {},
   "outputs": [
    {
     "data": {
      "text/plain": [
       "Joko Widodo lahir dari pasangan Widjiatno Notomihardjo dan Sudjiatmi. Ia merupakan anak sulung dan putra satu-satunya dari empat bersaudara. Ia memiliki tiga orang adik perempuan bernama Iit Sriyantini, Ida Yati, dan Titik Relawati"
      ]
     },
     "execution_count": 3,
     "metadata": {},
     "output_type": "execute_result"
    }
   ],
   "source": [
    "doc = nlp(text)\n",
    "\n",
    "doc"
   ]
  },
  {
   "cell_type": "code",
   "execution_count": 13,
   "metadata": {},
   "outputs": [
    {
     "data": {
      "text/plain": [
       "'Joko Widodo lahir dari pasangan Widjiatno Notomihardjo dan Sudjiatmi. Ia merupakan anak sulung dan putra satu-satunya dari empat bersaudara. Ia memiliki tiga orang adik perempuan bernama Iit Sriyantini, Ida Yati, dan Titik Relawati'"
      ]
     },
     "execution_count": 13,
     "metadata": {},
     "output_type": "execute_result"
    }
   ],
   "source": [
    "doc.text"
   ]
  },
  {
   "cell_type": "code",
   "execution_count": 11,
   "metadata": {},
   "outputs": [
    {
     "name": "stdout",
     "output_type": "stream",
     "text": [
      "Joko Widodo lahir dari pasangan Widjiatno Notomihardjo dan Sudjiatmi.\n",
      "Joko joko PROPN F-- nsubj Xxxx True False\n",
      "Widodo widodo PROPN F-- flat Xxxxx True False\n",
      "lahir lahir VERB VSA root xxxx True False\n",
      "dari dari ADP R-- case xxxx True True\n",
      "pasangan pasangan NOUN NSD obl xxxx True False\n",
      "Widjiatno widjiatno PROPN X-- flat Xxxxx True False\n",
      "Notomihardjo notomihardjo PROPN X-- flat Xxxxx True False\n",
      "dan dan CCONJ H-- cc xxx True True\n",
      "Sudjiatmi sudjiatmi PROPN X-- conj Xxxxx True False\n",
      ". . PUNCT Z-- punct . False False\n",
      "Ia merupakan anak sulung dan putra satu-satunya dari empat bersaudara.\n",
      "Ia ia PRON PS3 nsubj Xx True True\n",
      "merupakan merupakan VERB O-- root xxxx True True\n",
      "anak anak NOUN NSD obj xxxx True False\n",
      "sulung sulung ADJ ASP amod xxxx True False\n",
      "dan dan CCONJ H-- cc xxx True True\n",
      "putra putra NOUN NSD conj xxxx True False\n",
      "satu-satunya satusatunya ADJ ASP amod xxxx-xxxx False False\n",
      "dari dari ADP R-- case xxxx True True\n",
      "empat empat NUM CC- nummod xxxx True True\n",
      "bersaudara bersaudara NOUN VSA nmod xxxx True False\n",
      ". . PUNCT Z-- punct . False False\n",
      "Ia memiliki tiga orang adik perempuan bernama Iit Sriyantini, Ida Yati, dan Titik Relawati\n",
      "Ia ia PRON PS3 nsubj Xx True True\n",
      "memiliki menmiliki VERB VSA root xxxx True False\n",
      "tiga tiga NUM CC- nummod xxxx True True\n",
      "orang orang DET NSD det xxxx True False\n",
      "adik adik NOUN NSD obj xxxx True False\n",
      "perempuan perempuan NOUN NSD compound xxxx True False\n",
      "bernama bernama VERB VSA acl xxxx True False\n",
      "Iit iit PROPN F-- obj Xxx True False\n",
      "Sriyantini sriyantini PROPN X-- flat Xxxxx True False\n",
      ", , PUNCT Z-- punct , False False\n",
      "Ida ida PROPN F-- conj Xxx True False\n",
      "Yati yati PROPN X-- flat Xxxx True False\n",
      ", , PUNCT Z-- punct , False False\n",
      "dan dan CCONJ H-- cc xxx True True\n",
      "Titik titik PROPN NSD conj Xxxxx True False\n",
      "Relawati relawati PROPN X-- flat Xxxxx True False\n"
     ]
    }
   ],
   "source": [
    "ret = dict()\n",
    "\n",
    "ret[\"document\"] = doc.text\n",
    "ret[\"sentences\"] = []\n",
    "\n",
    "for sent in doc.sents:\n",
    "    print(sent)\n",
    "    sent_container = {\n",
    "        \"sentence\" : sent.text,\n",
    "        \"tokens\" : []\n",
    "    }\n",
    "    \n",
    "    for token in sent:\n",
    "        print(token.text, token.lemma_, token.pos_, token.tag_, token.dep_,\n",
    "            token.shape_, token.is_alpha, token.is_stop)\n",
    "        sent_container[\"tokens\"].append({\n",
    "            \"text\" : token.text,\n",
    "            \"lemma\" : token.lemma_,\n",
    "            \"pos\" : token.pos_\n",
    "        })\n",
    "    \n",
    "    ret[\"sentences\"].append(sent_container)"
   ]
  },
  {
   "cell_type": "code",
   "execution_count": 12,
   "metadata": {},
   "outputs": [
    {
     "data": {
      "text/plain": [
       "{'document': Joko Widodo lahir dari pasangan Widjiatno Notomihardjo dan Sudjiatmi. Ia merupakan anak sulung dan putra satu-satunya dari empat bersaudara. Ia memiliki tiga orang adik perempuan bernama Iit Sriyantini, Ida Yati, dan Titik Relawati,\n",
       " 'sentences': [{'sentence': Joko Widodo lahir dari pasangan Widjiatno Notomihardjo dan Sudjiatmi.,\n",
       "   'tokens': [{'text': 'Joko', 'lemma': 'joko', 'pos': 'PROPN'},\n",
       "    {'text': 'Widodo', 'lemma': 'widodo', 'pos': 'PROPN'},\n",
       "    {'text': 'lahir', 'lemma': 'lahir', 'pos': 'VERB'},\n",
       "    {'text': 'dari', 'lemma': 'dari', 'pos': 'ADP'},\n",
       "    {'text': 'pasangan', 'lemma': 'pasangan', 'pos': 'NOUN'},\n",
       "    {'text': 'Widjiatno', 'lemma': 'widjiatno', 'pos': 'PROPN'},\n",
       "    {'text': 'Notomihardjo', 'lemma': 'notomihardjo', 'pos': 'PROPN'},\n",
       "    {'text': 'dan', 'lemma': 'dan', 'pos': 'CCONJ'},\n",
       "    {'text': 'Sudjiatmi', 'lemma': 'sudjiatmi', 'pos': 'PROPN'},\n",
       "    {'text': '.', 'lemma': '.', 'pos': 'PUNCT'}]},\n",
       "  {'sentence': Ia merupakan anak sulung dan putra satu-satunya dari empat bersaudara.,\n",
       "   'tokens': [{'text': 'Ia', 'lemma': 'ia', 'pos': 'PRON'},\n",
       "    {'text': 'merupakan', 'lemma': 'merupakan', 'pos': 'VERB'},\n",
       "    {'text': 'anak', 'lemma': 'anak', 'pos': 'NOUN'},\n",
       "    {'text': 'sulung', 'lemma': 'sulung', 'pos': 'ADJ'},\n",
       "    {'text': 'dan', 'lemma': 'dan', 'pos': 'CCONJ'},\n",
       "    {'text': 'putra', 'lemma': 'putra', 'pos': 'NOUN'},\n",
       "    {'text': 'satu-satunya', 'lemma': 'satusatunya', 'pos': 'ADJ'},\n",
       "    {'text': 'dari', 'lemma': 'dari', 'pos': 'ADP'},\n",
       "    {'text': 'empat', 'lemma': 'empat', 'pos': 'NUM'},\n",
       "    {'text': 'bersaudara', 'lemma': 'bersaudara', 'pos': 'NOUN'},\n",
       "    {'text': '.', 'lemma': '.', 'pos': 'PUNCT'}]},\n",
       "  {'sentence': Ia memiliki tiga orang adik perempuan bernama Iit Sriyantini, Ida Yati, dan Titik Relawati,\n",
       "   'tokens': [{'text': 'Ia', 'lemma': 'ia', 'pos': 'PRON'},\n",
       "    {'text': 'memiliki', 'lemma': 'menmiliki', 'pos': 'VERB'},\n",
       "    {'text': 'tiga', 'lemma': 'tiga', 'pos': 'NUM'},\n",
       "    {'text': 'orang', 'lemma': 'orang', 'pos': 'DET'},\n",
       "    {'text': 'adik', 'lemma': 'adik', 'pos': 'NOUN'},\n",
       "    {'text': 'perempuan', 'lemma': 'perempuan', 'pos': 'NOUN'},\n",
       "    {'text': 'bernama', 'lemma': 'bernama', 'pos': 'VERB'},\n",
       "    {'text': 'Iit', 'lemma': 'iit', 'pos': 'PROPN'},\n",
       "    {'text': 'Sriyantini', 'lemma': 'sriyantini', 'pos': 'PROPN'},\n",
       "    {'text': ',', 'lemma': ',', 'pos': 'PUNCT'},\n",
       "    {'text': 'Ida', 'lemma': 'ida', 'pos': 'PROPN'},\n",
       "    {'text': 'Yati', 'lemma': 'yati', 'pos': 'PROPN'},\n",
       "    {'text': ',', 'lemma': ',', 'pos': 'PUNCT'},\n",
       "    {'text': 'dan', 'lemma': 'dan', 'pos': 'CCONJ'},\n",
       "    {'text': 'Titik', 'lemma': 'titik', 'pos': 'PROPN'},\n",
       "    {'text': 'Relawati', 'lemma': 'relawati', 'pos': 'PROPN'}]}]}"
      ]
     },
     "execution_count": 12,
     "metadata": {},
     "output_type": "execute_result"
    }
   ],
   "source": [
    "ret"
   ]
  },
  {
   "cell_type": "code",
   "execution_count": 4,
   "metadata": {},
   "outputs": [
    {
     "name": "stdout",
     "output_type": "stream",
     "text": [
      "Joko joko PROPN F-- nsubj Xxxx True False\n",
      "Widodo widodo PROPN F-- flat Xxxxx True False\n",
      "lahir lahir VERB VSA root xxxx True False\n",
      "dari dari ADP R-- case xxxx True True\n",
      "pasangan pasangan NOUN NSD obl xxxx True False\n",
      "Widjiatno widjiatno PROPN X-- flat Xxxxx True False\n",
      "Notomihardjo notomihardjo PROPN X-- flat Xxxxx True False\n",
      "dan dan CCONJ H-- cc xxx True True\n",
      "Sudjiatmi sudjiatmi PROPN X-- conj Xxxxx True False\n",
      ". . PUNCT Z-- punct . False False\n",
      "Ia ia PRON PS3 nsubj Xx True True\n",
      "merupakan merupakan VERB O-- root xxxx True True\n",
      "anak anak NOUN NSD obj xxxx True False\n",
      "sulung sulung ADJ ASP amod xxxx True False\n",
      "dan dan CCONJ H-- cc xxx True True\n",
      "putra putra NOUN NSD conj xxxx True False\n",
      "satu-satunya satusatunya ADJ ASP amod xxxx-xxxx False False\n",
      "dari dari ADP R-- case xxxx True True\n",
      "empat empat NUM CC- nummod xxxx True True\n",
      "bersaudara bersaudara NOUN VSA nmod xxxx True False\n",
      ". . PUNCT Z-- punct . False False\n",
      "Ia ia PRON PS3 nsubj Xx True True\n",
      "memiliki menmiliki VERB VSA root xxxx True False\n",
      "tiga tiga NUM CC- nummod xxxx True True\n",
      "orang orang DET NSD det xxxx True False\n",
      "adik adik NOUN NSD obj xxxx True False\n",
      "perempuan perempuan NOUN NSD compound xxxx True False\n",
      "bernama bernama VERB VSA acl xxxx True False\n",
      "Iit iit PROPN F-- obj Xxx True False\n",
      "Sriyantini sriyantini PROPN X-- flat Xxxxx True False\n",
      ", , PUNCT Z-- punct , False False\n",
      "Ida ida PROPN F-- conj Xxx True False\n",
      "Yati yati PROPN X-- flat Xxxx True False\n",
      ", , PUNCT Z-- punct , False False\n",
      "dan dan CCONJ H-- cc xxx True True\n",
      "Titik titik PROPN NSD conj Xxxxx True False\n",
      "Relawati relawati PROPN X-- flat Xxxxx True False\n"
     ]
    }
   ],
   "source": [
    "for token in doc:\n",
    "    print(token.text, token.lemma_, token.pos_, token.tag_, token.dep_,\n",
    "            token.shape_, token.is_alpha, token.is_stop)"
   ]
  },
  {
   "cell_type": "code",
   "execution_count": 5,
   "metadata": {},
   "outputs": [
    {
     "name": "stdout",
     "output_type": "stream",
     "text": [
      "Joko Widodo Joko nsubj lahir\n",
      "Ia Ia nsubj merupakan\n",
      "anak sulung dan putra satu-satunya dari empat bersaudara anak obj merupakan\n",
      "Ia Ia nsubj memiliki\n",
      "tiga orang adik perempuan bernama Iit Sriyantini, Ida Yati, dan Titik Relawati adik obj memiliki\n"
     ]
    }
   ],
   "source": [
    "for chunk in doc.noun_chunks:\n",
    "    print(chunk.text, chunk.root.text, chunk.root.dep_,\n",
    "            chunk.root.head.text)"
   ]
  }
 ],
 "metadata": {
  "interpreter": {
   "hash": "6f9bd6cb0975d62eeb3928ef1057dadeb342c669461780a215206bfc4e04947f"
  },
  "kernelspec": {
   "display_name": "Python 3.8.12 64-bit ('base': conda)",
   "language": "python",
   "name": "python3"
  },
  "language_info": {
   "codemirror_mode": {
    "name": "ipython",
    "version": 3
   },
   "file_extension": ".py",
   "mimetype": "text/x-python",
   "name": "python",
   "nbconvert_exporter": "python",
   "pygments_lexer": "ipython3",
   "version": "3.8.12"
  },
  "orig_nbformat": 4
 },
 "nbformat": 4,
 "nbformat_minor": 2
}
